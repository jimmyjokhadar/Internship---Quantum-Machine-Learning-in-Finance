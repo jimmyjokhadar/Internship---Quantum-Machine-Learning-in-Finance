{
 "cells": [
  {
   "cell_type": "code",
   "execution_count": null,
   "id": "cd50f3d6",
   "metadata": {},
   "outputs": [],
   "source": [
    "# Import general libraries (needed for functions)\n",
    "import numpy as np\n",
    "import matplotlib as mpl\n",
    "import matplotlib.pyplot as plt\n",
    "from IPython import display\n",
    "\n",
    "# Import the RB Functions\n",
    "import qiskit.ignis.verification.randomized_benchmarking as rb\n",
    "\n",
    "# Import Qiskit classes \n",
    "import qiskit\n",
    "from qiskit import assemble, transpile\n",
    "\n",
    "# Import IBM account\n",
    "from qiskit import IBMQ\n",
    "import qiskit.tools.jupyter\n",
    "IBMQ.load_account()\n",
    "%qiskit_backend_overview"
   ]
  },
  {
   "cell_type": "code",
   "execution_count": null,
   "id": "70ee2ce5",
   "metadata": {},
   "outputs": [],
   "source": [
    "# Generate RB circuits (7Q RB)\n",
    "\n",
    "# number of qubits\n",
    "nQ = 7 \n",
    "rb_opts = {}\n",
    "#Number of Cliffords in the sequence\n",
    "rb_opts['length_vector'] = [1, 10, 20, 50, 75, 100, 125, 150, 175, 200]\n",
    "# Number of seeds (random sequences)\n",
    "rb_opts['nseeds'] = 5\n",
    "# Default pattern\n",
    "rb_opts['rb_pattern'] = [[0,1,2,3,4,5,6]]\n",
    "\n",
    "rb_circs, xdata = rb.randomized_benchmarking_seq(**rb_opts)"
   ]
  },
  {
   "cell_type": "code",
   "execution_count": null,
   "id": "d9aa8458",
   "metadata": {},
   "outputs": [],
   "source": [
    "rb_circs[0][0].draw('mpl') #Drawing one of the circuits"
   ]
  },
  {
   "cell_type": "code",
   "execution_count": null,
   "id": "dadde812",
   "metadata": {},
   "outputs": [],
   "source": [
    "# Create a new circuit without the measurement\n",
    "qregs = rb_circs[0][-1].qregs\n",
    "cregs = rb_circs[0][-1].cregs\n",
    "qc = qiskit.QuantumCircuit(*qregs, *cregs)\n",
    "for i in rb_circs[0][-1][0:-nQ]:\n",
    "    qc.data.append(i)"
   ]
  },
  {
   "cell_type": "code",
   "execution_count": null,
   "id": "43325507",
   "metadata": {},
   "outputs": [],
   "source": [
    "# Create the RB fitter\n",
    "provider = IBMQ.get_provider(hub='ibm-q')\n",
    "sim = provider.get_backend('ibm_oslo')\n",
    "basis_gates = ['u1','u2','u3','cx'] \n",
    "shots = 200\n",
    "transpiled_circs_list = []\n",
    "rb_fit = rb.RBFitter(None, xdata, rb_opts['rb_pattern'])\n",
    "for rb_seed, rb_circ_seed in enumerate(rb_circs):\n",
    "    print(f'Compiling seed {rb_seed}')\n",
    "    new_rb_circ_seed = qiskit.compiler.transpile(rb_circ_seed, basis_gates=basis_gates)\n",
    "    transpiled_circs_list.append(new_rb_circ_seed)\n",
    "    print(f'Simulating seed {rb_seed}')\n",
    "    test = transpile(new_rb_circ_seed,sim)\n",
    "    job = sim.run(test, shots = shots)\n",
    "    # Add data to the fitter\n",
    "    rb_fit.add_data(job.result())\n",
    "    print('After seed %d, alpha: %f, EPC: %f'%(rb_seed,rb_fit.fit[0]['params'][1], rb_fit.fit[0]['epc']))"
   ]
  },
  {
   "cell_type": "code",
   "execution_count": null,
   "id": "cabec19b",
   "metadata": {},
   "outputs": [],
   "source": [
    "plt.figure(figsize=(8, 6))\n",
    "ax = plt.subplot(1, 1, 1)\n",
    "\n",
    "# Plot the essence by calling plot_rb_data\n",
    "rb_fit.plot_rb_data(0, ax=ax, add_label=True, show_plt=False)\n",
    "    \n",
    "# Add title and label\n",
    "ax.set_title('%d Qubit RB'%(nQ), fontsize=18)\n",
    "\n",
    "plt.show()"
   ]
  }
 ],
 "metadata": {
  "kernelspec": {
   "display_name": "Python 3 (ipykernel)",
   "language": "python",
   "name": "python3"
  },
  "language_info": {
   "codemirror_mode": {
    "name": "ipython",
    "version": 3
   },
   "file_extension": ".py",
   "mimetype": "text/x-python",
   "name": "python",
   "nbconvert_exporter": "python",
   "pygments_lexer": "ipython3",
   "version": "3.9.7"
  }
 },
 "nbformat": 4,
 "nbformat_minor": 5
}
